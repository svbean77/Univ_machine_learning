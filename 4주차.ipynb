{
 "cells": [
  {
   "cell_type": "code",
   "execution_count": 35,
   "id": "c7e6e45a",
   "metadata": {},
   "outputs": [
    {
     "name": "stdout",
     "output_type": "stream",
     "text": [
      "MSE = 94.64227282780898\n"
     ]
    }
   ],
   "source": [
    "#기계학습응용 4주차 과제\n",
    "import numpy as np\n",
    "from sklearn.model_selection import train_test_split\n",
    "from sklearn.metrics import mean_squared_error\n",
    "from sklearn.linear_model import LinearRegression\n",
    "\n",
    "data = np.loadtxt('weightHeight.csv', delimiter=\",\")  #파일을 로드\n",
    "man = data[np.where(data[:,0] == 0)]  #0열이 0인 남자의 데이터만 따로 저장\n",
    "\n",
    "man_weight = np.expand_dims(man[:,1], axis = 1)  #1열(몸무게)을 n행1열로 저장\n",
    "man_height = np.expand_dims(man[:,2], axis = 1)  #2열(키)을 n행1열로 저장\n",
    "\n",
    "#몸무게를 x축, 키를 y축으로 20%만 테스트로 자르기 (훈련 4000개, 테스트 1000개)\n",
    "train_W, test_W, train_H, test_H = train_test_split(man_weight, man_height, test_size=0.2)\n",
    "\n",
    "reg = LinearRegression()  #모델 생성\n",
    "reg.fit(train_W, train_H)  #모델에 데이터 삽입\n",
    "\n",
    "predict_H = reg.predict(test_W)  #훈련된 모델을 통해 키 예측하기\n",
    "\n",
    "#실제 키와 예측한 키의 평균제곱오차 출력\n",
    "print('MSE =', mean_squared_error(test_H, predict_H))"
   ]
  }
 ],
 "metadata": {
  "kernelspec": {
   "display_name": "Python 3 (ipykernel)",
   "language": "python",
   "name": "python3"
  },
  "language_info": {
   "codemirror_mode": {
    "name": "ipython",
    "version": 3
   },
   "file_extension": ".py",
   "mimetype": "text/x-python",
   "name": "python",
   "nbconvert_exporter": "python",
   "pygments_lexer": "ipython3",
   "version": "3.9.5"
  }
 },
 "nbformat": 4,
 "nbformat_minor": 5
}
