{
 "cells": [
  {
   "cell_type": "code",
   "execution_count": 5,
   "id": "35b9d9c1",
   "metadata": {},
   "outputs": [],
   "source": [
    "#기계학습응용 5주차 과제\n",
    "\n",
    "#데이터 로드\n",
    "import pandas as pd\n",
    "\n",
    "col_names = ['pregnant', 'glucose', 'bp', 'skin', 'insulin', 'bmi', 'pedigree', 'age', 'label']\n",
    "\n",
    "pima = pd.read_csv(\"diabetes.csv\", header = None, names = col_names)\n",
    "feature_cols = ['pregnant', 'insulin', 'bmi', 'age', 'glucose', 'bp', 'pedigree']\n",
    "x = pima[feature_cols]  #속성\n",
    "y = pima.label  #당뇨병 여부\n"
   ]
  },
  {
   "cell_type": "code",
   "execution_count": 9,
   "id": "baa547ee",
   "metadata": {},
   "outputs": [
    {
     "data": {
      "text/plain": [
       "LogisticRegression(max_iter=10000)"
      ]
     },
     "execution_count": 9,
     "metadata": {},
     "output_type": "execute_result"
    }
   ],
   "source": [
    "#모델 생성 및 훈련\n",
    "from sklearn.linear_model import LogisticRegression\n",
    "from sklearn.model_selection import train_test_split\n",
    "\n",
    "x = x[1:]; y = y[1:]  #첫 행은 이름이기 때문에 자르고 다음 행부터 사용\n",
    "train_x, test_x, train_y, test_y = train_test_split(x, y, test_size = 0.2)  #80:20으로 자름\n",
    "\n",
    "model = LogisticRegression(max_iter = 10000)  #로지스틱 회귀 모델 생성\n",
    "model.fit(train_x, train_y)  #모델에 데이터 삽입"
   ]
  },
  {
   "cell_type": "code",
   "execution_count": 10,
   "id": "1be1ce31",
   "metadata": {},
   "outputs": [
    {
     "name": "stdout",
     "output_type": "stream",
     "text": [
      "<confusion matrix의 결과>\n",
      " [[89  6]\n",
      " [22 37]]\n",
      "\n",
      "<결과 분석>\n",
      "TN(음성인데 음성이라고 예측 = 정답): 89\n",
      "FN(양성인데 음성이라고 예측 = 오답): 6\n",
      "FP(음성인데 양성이라고 예측 = 오답): 22\n",
      "TP(양성인데 양성이라고 예측 = 정답): 37\n",
      "AxesSubplot(0.125,0.125;0.62x0.755)\n"
     ]
    },
    {
     "data": {
      "image/png": "[encoded data removed]",
      "text/plain": [
       "<Figure size 432x288 with 2 Axes>"
      ]
     },
     "metadata": {
      "needs_background": "light"
     },
     "output_type": "display_data"
    }
   ],
   "source": [
    "#테스트 및 confusion matrix 분석\n",
    "#confusion matrix 순서 틀림\n",
    "from sklearn.metrics import confusion_matrix\n",
    "import seaborn as sns\n",
    "\n",
    "pred = model.predict(test_x)  #test_x에 대한 예측 결과\n",
    "\n",
    "cm = confusion_matrix(test_y, pred)  #실제 결과, 예측 결과를 가지고 confusion matrix를 만듦\n",
    "print(\"<confusion matrix의 결과>\\n\",cm)\n",
    "\n",
    "print(\"\\n<결과 분석>\")\n",
    "print(\"TN(음성인데 음성이라고 예측 = 정답):\", cm[0,0])\n",
    "print(\"FN(양성인데 음성이라고 예측 = 오답):\", cm[0,1])\n",
    "print(\"FP(음성인데 양성이라고 예측 = 오답):\", cm[1,0])\n",
    "print(\"TP(양성인데 양성이라고 예측 = 정답):\", cm[1,1])\n",
    "\n",
    "print(sns.heatmap(cm, annot = True))  #matrix를 출력, 그래프를 보기 편하게 하기 위해 각 상황의 결과(숫자)를 그래프 위에 출력"
   ]
  }
 ],
 "metadata": {
  "kernelspec": {
   "display_name": "Python 3 (ipykernel)",
   "language": "python",
   "name": "python3"
  },
  "language_info": {
   "codemirror_mode": {
    "name": "ipython",
    "version": 3
   },
   "file_extension": ".py",
   "mimetype": "text/x-python",
   "name": "python",
   "nbconvert_exporter": "python",
   "pygments_lexer": "ipython3",
   "version": "3.9.5"
  }
 },
 "nbformat": 4,
 "nbformat_minor": 5
}
