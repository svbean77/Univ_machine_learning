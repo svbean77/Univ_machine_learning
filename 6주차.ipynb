{
 "cells": [
  {
   "cell_type": "code",
   "execution_count": 53,
   "id": "6d81acc1",
   "metadata": {},
   "outputs": [],
   "source": [
    "#기계학습응용 6주차 과제\n",
    "import numpy as np\n",
    "import tensorflow as tf\n",
    "import pandas as pd\n",
    "import keras\n",
    "import matplotlib.pyplot as plt\n",
    "from sklearn.datasets import load_digits\n",
    "from sklearn.model_selection import train_test_split\n",
    "\n",
    "#mnist 데이터 로드 후 훈련 데이터와 테스트 데이터를 7:3으로 나눔\n",
    "digits = load_digits()\n",
    "x_data = digits.data\n",
    "y_data = digits.target\n",
    "x_train, x_test, y_train, y_test = train_test_split(x_data, y_data, test_size = 0.3)"
   ]
  },
  {
   "cell_type": "code",
   "execution_count": 54,
   "id": "d2e71384",
   "metadata": {},
   "outputs": [
    {
     "data": {
      "image/png": "[encoded data removed]",
      "text/plain": [
       "<Figure size 432x288 with 10 Axes>"
      ]
     },
     "metadata": {
      "needs_background": "light"
     },
     "output_type": "display_data"
    }
   ],
   "source": [
    "#1번: test의 앞 10개 그림 그리기\n",
    "\n",
    "#데이터를 (n,8,8) 형태로 바꿈\n",
    "x_train = x_train.reshape(-1, 8, 8) \n",
    "x_test = x_test.reshape(-1, 8, 8) \n",
    "class_names = ['0', '1', '2', '3', '4', '5', '6', '7', '8', '9']  #각 target의 이름\n",
    "\n",
    "for index in range(10):  #10번 반복\n",
    "    plt.subplot(1, 10, index + 1)  #1행 10열 중 index+1번째에 그림\n",
    "    plt.imshow(x_test[index], cmap = \"binary\", interpolation = \"nearest\")  #이미지 그리기\n",
    "    plt.axis('off')  #축은 그리지 않음\n",
    "    plt.title(class_names[y_test[index]], fontsize = 12)  #그림에 이름을 달아줌\n",
    "    \n",
    "plt.subplots_adjust(wspace = 0.2, hspace = 0.5)  #열간, 행간 공백 지정\n",
    "plt.show()  #그림 출력"
   ]
  },
  {
   "cell_type": "code",
   "execution_count": 55,
   "id": "3bda372f",
   "metadata": {},
   "outputs": [
    {
     "name": "stdout",
     "output_type": "stream",
     "text": [
      "Epoch 1/30\n",
      "38/38 [==============================] - 0s 4ms/step - loss: 1.2911 - accuracy: 0.7075 - val_loss: 0.3364 - val_accuracy: 0.9000\n",
      "Epoch 2/30\n",
      "38/38 [==============================] - 0s 2ms/step - loss: 0.2266 - accuracy: 0.9470 - val_loss: 0.2049 - val_accuracy: 0.9200\n",
      "Epoch 3/30\n",
      "38/38 [==============================] - 0s 2ms/step - loss: 0.1613 - accuracy: 0.9594 - val_loss: 0.2223 - val_accuracy: 0.9000\n",
      "Epoch 4/30\n",
      "38/38 [==============================] - 0s 1ms/step - loss: 0.1152 - accuracy: 0.9743 - val_loss: 0.1135 - val_accuracy: 0.9800\n",
      "Epoch 5/30\n",
      "38/38 [==============================] - 0s 2ms/step - loss: 0.0924 - accuracy: 0.9801 - val_loss: 0.0970 - val_accuracy: 1.0000\n",
      "Epoch 6/30\n",
      "38/38 [==============================] - 0s 1ms/step - loss: 0.0784 - accuracy: 0.9859 - val_loss: 0.1558 - val_accuracy: 0.9400\n",
      "Epoch 7/30\n",
      "38/38 [==============================] - 0s 2ms/step - loss: 0.0631 - accuracy: 0.9892 - val_loss: 0.1201 - val_accuracy: 0.9600\n",
      "Epoch 8/30\n",
      "38/38 [==============================] - 0s 2ms/step - loss: 0.0529 - accuracy: 0.9934 - val_loss: 0.1114 - val_accuracy: 0.9400\n",
      "Epoch 9/30\n",
      "38/38 [==============================] - 0s 1ms/step - loss: 0.0480 - accuracy: 0.9934 - val_loss: 0.1090 - val_accuracy: 0.9600\n",
      "Epoch 10/30\n",
      "38/38 [==============================] - 0s 2ms/step - loss: 0.0403 - accuracy: 0.9942 - val_loss: 0.0881 - val_accuracy: 0.9600\n",
      "Epoch 11/30\n",
      "38/38 [==============================] - 0s 1ms/step - loss: 0.0366 - accuracy: 0.9975 - val_loss: 0.1099 - val_accuracy: 0.9400\n",
      "Epoch 12/30\n",
      "38/38 [==============================] - 0s 2ms/step - loss: 0.0321 - accuracy: 0.9975 - val_loss: 0.1315 - val_accuracy: 0.9400\n",
      "Epoch 13/30\n",
      "38/38 [==============================] - 0s 2ms/step - loss: 0.0288 - accuracy: 0.9983 - val_loss: 0.0955 - val_accuracy: 0.9400\n",
      "Epoch 14/30\n",
      "38/38 [==============================] - 0s 2ms/step - loss: 0.0254 - accuracy: 0.9992 - val_loss: 0.0976 - val_accuracy: 0.9600\n",
      "Epoch 15/30\n",
      "38/38 [==============================] - 0s 2ms/step - loss: 0.0250 - accuracy: 0.9992 - val_loss: 0.0776 - val_accuracy: 0.9800\n",
      "Epoch 16/30\n",
      "38/38 [==============================] - 0s 2ms/step - loss: 0.0209 - accuracy: 0.9992 - val_loss: 0.1071 - val_accuracy: 0.9400\n",
      "Epoch 17/30\n",
      "38/38 [==============================] - 0s 2ms/step - loss: 0.0208 - accuracy: 0.9992 - val_loss: 0.0683 - val_accuracy: 0.9600\n",
      "Epoch 18/30\n",
      "38/38 [==============================] - 0s 2ms/step - loss: 0.0187 - accuracy: 0.9992 - val_loss: 0.0851 - val_accuracy: 0.9600\n",
      "Epoch 19/30\n",
      "38/38 [==============================] - 0s 2ms/step - loss: 0.0189 - accuracy: 0.9992 - val_loss: 0.0802 - val_accuracy: 0.9600\n",
      "Epoch 20/30\n",
      "38/38 [==============================] - 0s 1ms/step - loss: 0.0160 - accuracy: 1.0000 - val_loss: 0.0781 - val_accuracy: 0.9800\n",
      "Epoch 21/30\n",
      "38/38 [==============================] - 0s 2ms/step - loss: 0.0157 - accuracy: 0.9992 - val_loss: 0.0702 - val_accuracy: 0.9600\n",
      "Epoch 22/30\n",
      "38/38 [==============================] - 0s 2ms/step - loss: 0.0144 - accuracy: 0.9992 - val_loss: 0.0839 - val_accuracy: 0.9600\n",
      "Epoch 23/30\n",
      "38/38 [==============================] - 0s 2ms/step - loss: 0.0137 - accuracy: 1.0000 - val_loss: 0.1478 - val_accuracy: 0.9600\n",
      "Epoch 24/30\n",
      "38/38 [==============================] - 0s 1ms/step - loss: 0.0133 - accuracy: 1.0000 - val_loss: 0.0720 - val_accuracy: 0.9600\n",
      "Epoch 25/30\n",
      "38/38 [==============================] - 0s 2ms/step - loss: 0.0119 - accuracy: 1.0000 - val_loss: 0.0674 - val_accuracy: 0.9600\n",
      "Epoch 26/30\n",
      "38/38 [==============================] - 0s 1ms/step - loss: 0.0115 - accuracy: 1.0000 - val_loss: 0.0797 - val_accuracy: 0.9800\n",
      "Epoch 27/30\n",
      "38/38 [==============================] - 0s 2ms/step - loss: 0.0111 - accuracy: 1.0000 - val_loss: 0.0780 - val_accuracy: 0.9600\n",
      "Epoch 28/30\n",
      "38/38 [==============================] - 0s 2ms/step - loss: 0.0107 - accuracy: 1.0000 - val_loss: 0.0714 - val_accuracy: 0.9600\n",
      "Epoch 29/30\n",
      "38/38 [==============================] - 0s 2ms/step - loss: 0.0101 - accuracy: 1.0000 - val_loss: 0.0841 - val_accuracy: 0.9600\n",
      "Epoch 30/30\n",
      "38/38 [==============================] - 0s 2ms/step - loss: 0.0096 - accuracy: 1.0000 - val_loss: 0.0791 - val_accuracy: 0.9600\n"
     ]
    },
    {
     "data": {
      "text/plain": [
       "<keras.callbacks.History at 0x1b7952e24c0>"
      ]
     },
     "execution_count": 55,
     "metadata": {},
     "output_type": "execute_result"
    }
   ],
   "source": [
    "#2번: epoch 30번 돌리기\n",
    "\n",
    "#훈련 데이터를 훈련 데이터와 검증 데이터로 나눔\n",
    "x_valid, x_train = x_train[:50], x_train[50:]\n",
    "y_valid, y_train = y_train[:50], y_train[50:]\n",
    "\n",
    "model = keras.models.Sequential([\n",
    "    keras.layers.Flatten(input_shape=[8, 8]),  #입력층, 데이터는 (8,8) 형태로 들어감\n",
    "    keras.layers.Dense(300, activation=\"relu\"),  #은닉층1, 출력은 300개\n",
    "    keras.layers.Dense(100, activation=\"relu\"),  #은닉층2, 출력은 100개\n",
    "    keras.layers.Dense(10, activation=\"softmax\")  #출력층, 0~9로 출력은 10개\n",
    "])\n",
    "\n",
    "model.compile(loss=\"sparse_categorical_crossentropy\", optimizer=\"sgd\", metrics=[\"accuracy\"])  #손실함수, 최적화방법\n",
    "model.fit(x_train, y_train, epochs=30, validation_data = (x_valid, y_valid))  #데이터를 넣고 훈련"
   ]
  }
 ],
 "metadata": {
  "kernelspec": {
   "display_name": "Python 3 (ipykernel)",
   "language": "python",
   "name": "python3"
  },
  "language_info": {
   "codemirror_mode": {
    "name": "ipython",
    "version": 3
   },
   "file_extension": ".py",
   "mimetype": "text/x-python",
   "name": "python",
   "nbconvert_exporter": "python",
   "pygments_lexer": "ipython3",
   "version": "3.9.5"
  }
 },
 "nbformat": 4,
 "nbformat_minor": 5
}
