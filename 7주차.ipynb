{
 "cells": [
  {
   "cell_type": "code",
   "execution_count": 1,
   "id": "d7eb4cf6",
   "metadata": {},
   "outputs": [],
   "source": [
    "#기계학습응용 7주차 과제\n",
    "import numpy as np\n",
    "import tensorflow as tf\n",
    "import pandas as pd\n",
    "import keras\n",
    "import matplotlib.pyplot as plt\n",
    "from sklearn.datasets import load_digits\n",
    "from sklearn.model_selection import train_test_split\n",
    "\n",
    "#mnist 데이터 로드 후 훈련 데이터와 테스트 데이터를 8:2로 나눔\n",
    "digits = load_digits()\n",
    "x_data = digits.data\n",
    "y_data = digits.target\n",
    "x_trainf, x_test, y_trainf, y_test = train_test_split(x_data, y_data, test_size = 0.2)\n",
    "\n",
    "#데이터의 형태를 nx8x8로 바꿔줌\n",
    "x_train = x_trainf.reshape(-1, 8, 8) \n",
    "x_test = x_test.reshape(-1, 8, 8) \n",
    "#훈련 데이터를 훈련 데이터와 검증 데이터로 나눔\n",
    "x_valid, x_train = x_train[:50], x_train[50:]\n",
    "y_valid, y_train = y_trainf[:50], y_trainf[50:]"
   ]
  },
  {
   "cell_type": "code",
   "execution_count": 2,
   "id": "0c31652e",
   "metadata": {},
   "outputs": [],
   "source": [
    "#1번 - 모델 생성\n",
    "#선택한 가중치 초기화 방법으로 모델을 만들도록 함수를 작성\n",
    "def makeModel(x_train, y_train, x_valid, y_valid, weight_init):    \n",
    "    model = keras.models.Sequential([\n",
    "    keras.layers.Flatten(input_shape=[8, 8]),  \n",
    "    keras.layers.Dense(300, activation=\"relu\", kernel_initializer = weight_init),  \n",
    "    keras.layers.Dense(100, activation=\"relu\", kernel_initializer = weight_init),  \n",
    "    keras.layers.Dense(10, activation=\"softmax\", kernel_initializer = weight_init)  \n",
    "    ])  \n",
    "    \n",
    "    model.compile(loss=\"sparse_categorical_crossentropy\", optimizer=\"sgd\", metrics=[\"accuracy\"])\n",
    "    model.fit(x_train, y_train, epochs=10, validation_data = (x_valid, y_valid))"
   ]
  },
  {
   "cell_type": "code",
   "execution_count": 3,
   "id": "917e7f45",
   "metadata": {},
   "outputs": [
    {
     "name": "stdout",
     "output_type": "stream",
     "text": [
      "Epoch 1/10\n",
      "44/44 [==============================] - 1s 10ms/step - loss: 1.4428 - accuracy: 0.6381 - val_loss: 0.7585 - val_accuracy: 0.8400\n",
      "Epoch 2/10\n",
      "44/44 [==============================] - 0s 4ms/step - loss: 0.5219 - accuracy: 0.9084 - val_loss: 0.3188 - val_accuracy: 0.9600\n",
      "Epoch 3/10\n",
      "44/44 [==============================] - 0s 4ms/step - loss: 0.3006 - accuracy: 0.9438 - val_loss: 0.2082 - val_accuracy: 1.0000\n",
      "Epoch 4/10\n",
      "44/44 [==============================] - 0s 3ms/step - loss: 0.2206 - accuracy: 0.9495 - val_loss: 0.1646 - val_accuracy: 0.9600\n",
      "Epoch 5/10\n",
      "44/44 [==============================] - 0s 3ms/step - loss: 0.1797 - accuracy: 0.9582 - val_loss: 0.1352 - val_accuracy: 1.0000\n",
      "Epoch 6/10\n",
      "44/44 [==============================] - 0s 3ms/step - loss: 0.1496 - accuracy: 0.9632 - val_loss: 0.1633 - val_accuracy: 0.9800\n",
      "Epoch 7/10\n",
      "44/44 [==============================] - 0s 3ms/step - loss: 0.1261 - accuracy: 0.9690 - val_loss: 0.0946 - val_accuracy: 1.0000\n",
      "Epoch 8/10\n",
      "44/44 [==============================] - 0s 3ms/step - loss: 0.1088 - accuracy: 0.9748 - val_loss: 0.0774 - val_accuracy: 1.0000\n",
      "Epoch 9/10\n",
      "44/44 [==============================] - 0s 3ms/step - loss: 0.1011 - accuracy: 0.9748 - val_loss: 0.1035 - val_accuracy: 0.9600\n",
      "Epoch 10/10\n",
      "44/44 [==============================] - 0s 3ms/step - loss: 0.0900 - accuracy: 0.9834 - val_loss: 0.0630 - val_accuracy: 1.0000\n"
     ]
    }
   ],
   "source": [
    "#1번-1 Random Normal로 가중치 초기화한 결과\n",
    "model_random= makeModel(x_train, y_train, x_valid, y_valid, \"RandomNormal\")"
   ]
  },
  {
   "cell_type": "code",
   "execution_count": 4,
   "id": "e7ad236b",
   "metadata": {},
   "outputs": [
    {
     "name": "stdout",
     "output_type": "stream",
     "text": [
      "Epoch 1/10\n",
      "44/44 [==============================] - 1s 8ms/step - loss: 1.2207 - accuracy: 0.6756 - val_loss: 0.5161 - val_accuracy: 0.8200\n",
      "Epoch 2/10\n",
      "44/44 [==============================] - 0s 3ms/step - loss: 0.2733 - accuracy: 0.9293 - val_loss: 0.2259 - val_accuracy: 0.9000\n",
      "Epoch 3/10\n",
      "44/44 [==============================] - 0s 3ms/step - loss: 0.1695 - accuracy: 0.9531 - val_loss: 0.1533 - val_accuracy: 0.9800\n",
      "Epoch 4/10\n",
      "44/44 [==============================] - 0s 3ms/step - loss: 0.1146 - accuracy: 0.9748 - val_loss: 0.0978 - val_accuracy: 0.9800\n",
      "Epoch 5/10\n",
      "44/44 [==============================] - 0s 3ms/step - loss: 0.0889 - accuracy: 0.9841 - val_loss: 0.1017 - val_accuracy: 0.9600\n",
      "Epoch 6/10\n",
      "44/44 [==============================] - 0s 3ms/step - loss: 0.0708 - accuracy: 0.9899 - val_loss: 0.0422 - val_accuracy: 1.0000\n",
      "Epoch 7/10\n",
      "44/44 [==============================] - 0s 3ms/step - loss: 0.0601 - accuracy: 0.9906 - val_loss: 0.0930 - val_accuracy: 0.9800\n",
      "Epoch 8/10\n",
      "44/44 [==============================] - 0s 3ms/step - loss: 0.0512 - accuracy: 0.9935 - val_loss: 0.0441 - val_accuracy: 0.9800\n",
      "Epoch 9/10\n",
      "44/44 [==============================] - 0s 3ms/step - loss: 0.0407 - accuracy: 0.9964 - val_loss: 0.0487 - val_accuracy: 0.9800\n",
      "Epoch 10/10\n",
      "44/44 [==============================] - 0s 3ms/step - loss: 0.0365 - accuracy: 0.9971 - val_loss: 0.0585 - val_accuracy: 0.9800\n"
     ]
    }
   ],
   "source": [
    "#1번-2 Xavier로 가중치 초기화한 결과\n",
    "model_Xavier = makeModel(x_train, y_train, x_valid, y_valid, \"glorot_uniform\")"
   ]
  },
  {
   "cell_type": "code",
   "execution_count": 5,
   "id": "d1b1ec61",
   "metadata": {},
   "outputs": [
    {
     "name": "stdout",
     "output_type": "stream",
     "text": [
      "Epoch 1/10\n",
      "44/44 [==============================] - 1s 9ms/step - loss: 2.3923 - accuracy: 0.7253 - val_loss: 0.2441 - val_accuracy: 0.9200\n",
      "Epoch 2/10\n",
      "44/44 [==============================] - 0s 3ms/step - loss: 0.2166 - accuracy: 0.9337 - val_loss: 0.1042 - val_accuracy: 0.9800\n",
      "Epoch 3/10\n",
      "44/44 [==============================] - 0s 3ms/step - loss: 0.1286 - accuracy: 0.9596 - val_loss: 0.1090 - val_accuracy: 0.9600\n",
      "Epoch 4/10\n",
      "44/44 [==============================] - 0s 3ms/step - loss: 0.0957 - accuracy: 0.9740 - val_loss: 0.1003 - val_accuracy: 0.9600\n",
      "Epoch 5/10\n",
      "44/44 [==============================] - 0s 3ms/step - loss: 0.0678 - accuracy: 0.9849 - val_loss: 0.0418 - val_accuracy: 1.0000\n",
      "Epoch 6/10\n",
      "44/44 [==============================] - 0s 3ms/step - loss: 0.0511 - accuracy: 0.9913 - val_loss: 0.0592 - val_accuracy: 0.9400\n",
      "Epoch 7/10\n",
      "44/44 [==============================] - 0s 3ms/step - loss: 0.0390 - accuracy: 0.9942 - val_loss: 0.0464 - val_accuracy: 0.9800\n",
      "Epoch 8/10\n",
      "44/44 [==============================] - 0s 3ms/step - loss: 0.0296 - accuracy: 0.9964 - val_loss: 0.0472 - val_accuracy: 0.9800\n",
      "Epoch 9/10\n",
      "44/44 [==============================] - 0s 3ms/step - loss: 0.0250 - accuracy: 0.9978 - val_loss: 0.0477 - val_accuracy: 1.0000\n",
      "Epoch 10/10\n",
      "44/44 [==============================] - 0s 3ms/step - loss: 0.0228 - accuracy: 0.9986 - val_loss: 0.0323 - val_accuracy: 1.0000\n"
     ]
    }
   ],
   "source": [
    "#2번-1 각 픽셀 이미지로 한 결과, 초기화로 he_normal 사용\n",
    "model_origin = makeModel(x_train, y_train, x_valid, y_valid, \"he_normal\")"
   ]
  },
  {
   "cell_type": "code",
   "execution_count": 6,
   "id": "978d01cd",
   "metadata": {},
   "outputs": [],
   "source": [
    "from sklearn.preprocessing import MinMaxScaler\n",
    "\n",
    "#x_trainf로 정규화\n",
    "scaler = MinMaxScaler()\n",
    "scaler.fit(x_trainf)\n",
    "digit_scaled = scaler.transform(x_trainf).reshape(-1, 8, 8)\n",
    "\n",
    "#x_trainf로 정규화한 데이터를 위의 경우와 같이 valid, train 데이터로 나눔\n",
    "ds_valid, ds_train = digit_scaled[:50], digit_scaled[50:]"
   ]
  },
  {
   "cell_type": "code",
   "execution_count": 7,
   "id": "34828fac",
   "metadata": {},
   "outputs": [
    {
     "name": "stdout",
     "output_type": "stream",
     "text": [
      "Epoch 1/10\n",
      "44/44 [==============================] - 1s 8ms/step - loss: 2.0167 - accuracy: 0.3367 - val_loss: 1.7343 - val_accuracy: 0.6000\n",
      "Epoch 2/10\n",
      "44/44 [==============================] - 0s 3ms/step - loss: 1.5990 - accuracy: 0.6604 - val_loss: 1.3570 - val_accuracy: 0.7800\n",
      "Epoch 3/10\n",
      "44/44 [==============================] - 0s 3ms/step - loss: 1.2748 - accuracy: 0.7758 - val_loss: 1.0705 - val_accuracy: 0.8600\n",
      "Epoch 4/10\n",
      "44/44 [==============================] - 0s 3ms/step - loss: 1.0319 - accuracy: 0.8349 - val_loss: 0.8655 - val_accuracy: 0.8600\n",
      "Epoch 5/10\n",
      "44/44 [==============================] - 0s 3ms/step - loss: 0.8526 - accuracy: 0.8558 - val_loss: 0.7135 - val_accuracy: 0.8600\n",
      "Epoch 6/10\n",
      "44/44 [==============================] - 0s 4ms/step - loss: 0.7177 - accuracy: 0.8789 - val_loss: 0.5945 - val_accuracy: 0.8800\n",
      "Epoch 7/10\n",
      "44/44 [==============================] - 0s 7ms/step - loss: 0.6202 - accuracy: 0.8919 - val_loss: 0.5148 - val_accuracy: 0.8800\n",
      "Epoch 8/10\n",
      "44/44 [==============================] - 0s 6ms/step - loss: 0.5416 - accuracy: 0.9099 - val_loss: 0.4543 - val_accuracy: 0.9400\n",
      "Epoch 9/10\n",
      "44/44 [==============================] - 0s 6ms/step - loss: 0.4828 - accuracy: 0.9164 - val_loss: 0.3983 - val_accuracy: 0.9400\n",
      "Epoch 10/10\n",
      "44/44 [==============================] - 0s 5ms/step - loss: 0.4336 - accuracy: 0.9236 - val_loss: 0.3708 - val_accuracy: 0.9400\n"
     ]
    }
   ],
   "source": [
    "#2번-2 정규화한 이미지로 한 결과, 초기화로 he_normal 사용\n",
    "model_normal = makeModel(ds_train, y_train, ds_valid, y_valid, \"he_normal\")"
   ]
  }
 ],
 "metadata": {
  "kernelspec": {
   "display_name": "Python 3 (ipykernel)",
   "language": "python",
   "name": "python3"
  },
  "language_info": {
   "codemirror_mode": {
    "name": "ipython",
    "version": 3
   },
   "file_extension": ".py",
   "mimetype": "text/x-python",
   "name": "python",
   "nbconvert_exporter": "python",
   "pygments_lexer": "ipython3",
   "version": "3.9.5"
  }
 },
 "nbformat": 4,
 "nbformat_minor": 5
}
